{
 "cells": [
  {
   "cell_type": "markdown",
   "id": "32ecfdae",
   "metadata": {},
   "source": [
    "# 데이터 가져오기"
   ]
  },
  {
   "cell_type": "code",
   "execution_count": 1,
   "id": "c86ba754",
   "metadata": {},
   "outputs": [],
   "source": [
    "import pandas as pd\n",
    "import numpy as np\n",
    "import matplotlib.pyplot as plt\n",
    "import seaborn as sns\n",
    "import os\n",
    "import warnings\n",
    "warnings.filterwarnings('ignore')"
   ]
  },
  {
   "cell_type": "code",
   "execution_count": 2,
   "id": "9fc1fc8a",
   "metadata": {},
   "outputs": [],
   "source": [
    "BUSUL=pd.read_csv(\"C:/Users/user/Desktop/Gwangjingu/서울특별시 광진구_공영 민영 주차장 통합_20221227/busul.csv\", encoding='UTF-8')\n",
    "NOOE=pd.read_csv(\"C:/Users/user/Desktop/Gwangjingu/서울특별시 광진구_공영 민영 주차장 통합_20221227/nooe.csv\", encoding='UTF-8')\n",
    "NOSANG=pd.read_csv(\"C:/Users/user/Desktop/Gwangjingu/서울특별시 광진구_공영 민영 주차장 통합_20221227/nosang.csv\", encoding='UTF-8')\n",
    "CAR=pd.read_csv(\"C:/Users/user/Desktop/Gwangjingu/Car.csv\", encoding='cp949')\n",
    "CCTV=pd.read_csv(\"C:/Users/user/Desktop/Gwangjingu/cctv.csv\", encoding='cp949')\n",
    "DANSOK=pd.read_csv(\"C:/Users/user/Desktop/Gwangjingu/dansok.csv\", encoding='cp949')\n",
    "\n"
   ]
  },
  {
   "cell_type": "markdown",
   "id": "60c4b5fd",
   "metadata": {},
   "source": [
    "## 1. 불법주정차 단속현황"
   ]
  },
  {
   "cell_type": "code",
   "execution_count": 3,
   "id": "240e4615",
   "metadata": {},
   "outputs": [
    {
     "data": {
      "text/plain": [
       "Index(['단속일시', '과태료', '단속지역', '단속장소', '위반내용', '견인지시', '단속구분'], dtype='object')"
      ]
     },
     "execution_count": 3,
     "metadata": {},
     "output_type": "execute_result"
    }
   ],
   "source": [
    "DANSOK.columns"
   ]
  },
  {
   "cell_type": "markdown",
   "id": "9472b539",
   "metadata": {},
   "source": [
    "### 필요없는 항목 제거"
   ]
  },
  {
   "cell_type": "code",
   "execution_count": 4,
   "id": "5a4b4676",
   "metadata": {},
   "outputs": [],
   "source": [
    "DANSOK.drop(['단속일시','과태료', '위반내용', '견인지시','단속장소'], axis=1, inplace=True)"
   ]
  },
  {
   "cell_type": "code",
   "execution_count": 5,
   "id": "b4acecd9",
   "metadata": {},
   "outputs": [
    {
     "data": {
      "text/plain": [
       "단속지역    0\n",
       "단속구분    0\n",
       "dtype: int64"
      ]
     },
     "execution_count": 5,
     "metadata": {},
     "output_type": "execute_result"
    }
   ],
   "source": [
    "DANSOK.dropna(axis='index',how='any', inplace=True)\n",
    "DANSOK.isnull().sum()"
   ]
  },
  {
   "cell_type": "code",
   "execution_count": 6,
   "id": "097b289d",
   "metadata": {
    "scrolled": false
   },
   "outputs": [
    {
     "data": {
      "text/html": [
       "<div>\n",
       "<style scoped>\n",
       "    .dataframe tbody tr th:only-of-type {\n",
       "        vertical-align: middle;\n",
       "    }\n",
       "\n",
       "    .dataframe tbody tr th {\n",
       "        vertical-align: top;\n",
       "    }\n",
       "\n",
       "    .dataframe thead th {\n",
       "        text-align: right;\n",
       "    }\n",
       "</style>\n",
       "<table border=\"1\" class=\"dataframe\">\n",
       "  <thead>\n",
       "    <tr style=\"text-align: right;\">\n",
       "      <th></th>\n",
       "      <th>단속지역</th>\n",
       "      <th>단속구분</th>\n",
       "    </tr>\n",
       "  </thead>\n",
       "  <tbody>\n",
       "    <tr>\n",
       "      <th>0</th>\n",
       "      <td>화양동</td>\n",
       "      <td>PDA</td>\n",
       "    </tr>\n",
       "    <tr>\n",
       "      <th>1</th>\n",
       "      <td>화양동</td>\n",
       "      <td>CCTV</td>\n",
       "    </tr>\n",
       "    <tr>\n",
       "      <th>2</th>\n",
       "      <td>구의동</td>\n",
       "      <td>CCTV</td>\n",
       "    </tr>\n",
       "    <tr>\n",
       "      <th>3</th>\n",
       "      <td>화양동</td>\n",
       "      <td>CCTV</td>\n",
       "    </tr>\n",
       "    <tr>\n",
       "      <th>4</th>\n",
       "      <td>화양동</td>\n",
       "      <td>CCTV</td>\n",
       "    </tr>\n",
       "    <tr>\n",
       "      <th>...</th>\n",
       "      <td>...</td>\n",
       "      <td>...</td>\n",
       "    </tr>\n",
       "    <tr>\n",
       "      <th>503295</th>\n",
       "      <td>중곡동</td>\n",
       "      <td>스마트앱(서울시)</td>\n",
       "    </tr>\n",
       "    <tr>\n",
       "      <th>503296</th>\n",
       "      <td>광장동</td>\n",
       "      <td>안전신문고(행안부)</td>\n",
       "    </tr>\n",
       "    <tr>\n",
       "      <th>503297</th>\n",
       "      <td>중곡동</td>\n",
       "      <td>PDA</td>\n",
       "    </tr>\n",
       "    <tr>\n",
       "      <th>503298</th>\n",
       "      <td>중곡동</td>\n",
       "      <td>PDA</td>\n",
       "    </tr>\n",
       "    <tr>\n",
       "      <th>503299</th>\n",
       "      <td>군자동</td>\n",
       "      <td>PDA</td>\n",
       "    </tr>\n",
       "  </tbody>\n",
       "</table>\n",
       "<p>503300 rows × 2 columns</p>\n",
       "</div>"
      ],
      "text/plain": [
       "       단속지역        단속구분\n",
       "0       화양동         PDA\n",
       "1       화양동        CCTV\n",
       "2       구의동        CCTV\n",
       "3       화양동        CCTV\n",
       "4       화양동        CCTV\n",
       "...     ...         ...\n",
       "503295  중곡동   스마트앱(서울시)\n",
       "503296  광장동  안전신문고(행안부)\n",
       "503297  중곡동         PDA\n",
       "503298  중곡동         PDA\n",
       "503299  군자동         PDA\n",
       "\n",
       "[503300 rows x 2 columns]"
      ]
     },
     "execution_count": 6,
     "metadata": {},
     "output_type": "execute_result"
    }
   ],
   "source": [
    "DANSOK"
   ]
  },
  {
   "cell_type": "markdown",
   "id": "e40d7d76",
   "metadata": {},
   "source": [
    "### 상위 7개 동 불법주정차단속횟수"
   ]
  },
  {
   "cell_type": "code",
   "execution_count": 7,
   "id": "179277f0",
   "metadata": {},
   "outputs": [
    {
     "data": {
      "text/plain": [
       "구의동    119364\n",
       "자양동     95549\n",
       "중곡동     83843\n",
       "화양동     51434\n",
       "광장동     46572\n",
       "군자동     35612\n",
       "능동      16350\n",
       "Name: 단속지역, dtype: int64"
      ]
     },
     "execution_count": 7,
     "metadata": {},
     "output_type": "execute_result"
    }
   ],
   "source": [
    "value_counts=DANSOK['단속지역'].value_counts()\n",
    "value_counts.nlargest(7)"
   ]
  },
  {
   "cell_type": "markdown",
   "id": "aaf5b7dc",
   "metadata": {},
   "source": [
    "### 추출된 7개 동 변수 설정"
   ]
  },
  {
   "cell_type": "code",
   "execution_count": 8,
   "id": "31ae5ae4",
   "metadata": {},
   "outputs": [
    {
     "name": "stdout",
     "output_type": "stream",
     "text": [
      "       단속지역        단속구분\n",
      "105     광장동         PDA\n",
      "123     광장동         PDA\n",
      "231     광장동     주행형CCTV\n",
      "232     광장동     주행형CCTV\n",
      "240     광장동     주행형CCTV\n",
      "...     ...         ...\n",
      "503232  광장동     고정형CCTV\n",
      "503247  광장동         PDA\n",
      "503291  광장동  안전신문고(행안부)\n",
      "503292  광장동  안전신문고(행안부)\n",
      "503296  광장동  안전신문고(행안부)\n",
      "\n",
      "[46572 rows x 2 columns]\n",
      "       단속지역     단속구분\n",
      "2       구의동     CCTV\n",
      "6       구의동     CCTV\n",
      "7       구의동     CCTV\n",
      "8       구의동     CCTV\n",
      "9       구의동     CCTV\n",
      "...     ...      ...\n",
      "503270  구의동      PDA\n",
      "503282  구의동  고정형CCTV\n",
      "503285  구의동      PDA\n",
      "503288  구의동  고정형CCTV\n",
      "503289  구의동  고정형CCTV\n",
      "\n",
      "[119364 rows x 2 columns]\n",
      "       단속지역     단속구분\n",
      "86      군자동  주행형CCTV\n",
      "87      군자동  주행형CCTV\n",
      "88      군자동  주행형CCTV\n",
      "106     군자동      PDA\n",
      "109     군자동      PDA\n",
      "...     ...      ...\n",
      "503184  군자동      PDA\n",
      "503187  군자동  고정형CCTV\n",
      "503240  군자동      PDA\n",
      "503260  군자동  고정형CCTV\n",
      "503299  군자동      PDA\n",
      "\n",
      "[35612 rows x 2 columns]\n",
      "       단속지역     단속구분\n",
      "15       능동      PDA\n",
      "22       능동     CCTV\n",
      "42       능동      PDA\n",
      "157      능동      PDA\n",
      "300      능동      PDA\n",
      "...     ...      ...\n",
      "503160   능동  고정형CCTV\n",
      "503188   능동      PDA\n",
      "503189   능동      PDA\n",
      "503223   능동      PDA\n",
      "503224   능동  고정형CCTV\n",
      "\n",
      "[16350 rows x 2 columns]\n",
      "       단속지역       단속구분\n",
      "35      자양동        PDA\n",
      "37      자양동        PDA\n",
      "53      자양동        PDA\n",
      "54      자양동        PDA\n",
      "79      자양동       CCTV\n",
      "...     ...        ...\n",
      "503284  자양동        PDA\n",
      "503286  자양동  스마트앱(서울시)\n",
      "503287  자양동  스마트앱(서울시)\n",
      "503290  자양동  스마트앱(서울시)\n",
      "503293  자양동  스마트앱(서울시)\n",
      "\n",
      "[95549 rows x 2 columns]\n",
      "       단속지역       단속구분\n",
      "24      중곡동        PDA\n",
      "25      중곡동        PDA\n",
      "26      중곡동        PDA\n",
      "81      중곡동       CCTV\n",
      "120     중곡동        PDA\n",
      "...     ...        ...\n",
      "503280  중곡동    고정형CCTV\n",
      "503294  중곡동  스마트앱(서울시)\n",
      "503295  중곡동  스마트앱(서울시)\n",
      "503297  중곡동        PDA\n",
      "503298  중곡동        PDA\n",
      "\n",
      "[83843 rows x 2 columns]\n",
      "       단속지역  단속구분\n",
      "0       화양동   PDA\n",
      "1       화양동  CCTV\n",
      "3       화양동  CCTV\n",
      "4       화양동  CCTV\n",
      "5       화양동  CCTV\n",
      "...     ...   ...\n",
      "503269  화양동   PDA\n",
      "503271  화양동   PDA\n",
      "503273  화양동   PDA\n",
      "503275  화양동   PDA\n",
      "503283  화양동   PDA\n",
      "\n",
      "[51434 rows x 2 columns]\n"
     ]
    }
   ],
   "source": [
    "GJ=DANSOK.loc[DANSOK['단속지역']=='광장동']\n",
    "GE=DANSOK.loc[DANSOK['단속지역']=='구의동']\n",
    "GJA=DANSOK.loc[DANSOK['단속지역']=='군자동']\n",
    "NE=DANSOK.loc[DANSOK['단속지역']=='능동']\n",
    "JY=DANSOK.loc[DANSOK['단속지역']=='자양동']\n",
    "JG=DANSOK.loc[DANSOK['단속지역']=='중곡동']\n",
    "HY=DANSOK.loc[DANSOK['단속지역']=='화양동']\n",
    "\n",
    "print(GJ)\n",
    "print(GE)\n",
    "print(GJA)\n",
    "print(NE)\n",
    "print(JY)\n",
    "print(JG)\n",
    "print(HY)"
   ]
  },
  {
   "cell_type": "markdown",
   "id": "c8e1fb30",
   "metadata": {},
   "source": [
    "## 2. 동 별 주행형CCTV, PDA 단속횟수 파악"
   ]
  },
  {
   "cell_type": "code",
   "execution_count": 9,
   "id": "65e518d4",
   "metadata": {},
   "outputs": [
    {
     "name": "stdout",
     "output_type": "stream",
     "text": [
      "광장동 주행형CCTV 횟수 :  16440\n",
      "구의동 주행형CCTV 횟수 :  8320\n",
      "군자동 주행형CCTV 횟수 :  8330\n",
      "능동 주행형CCTV 횟수 :  67\n",
      "자양동 주행형CCTV 횟수 :  13323\n",
      "중곡동 주행형CCTV 횟수 :  1986\n",
      "화양동 주행형CCTV 횟수 :  6941\n"
     ]
    }
   ],
   "source": [
    "GJ_L=len(GJ.loc[GJ['단속구분']=='주행형CCTV'])\n",
    "GE_L=len(GE.loc[GE['단속구분']=='주행형CCTV'])\n",
    "GJA_L=len(GJA.loc[GJA['단속구분']=='주행형CCTV'])\n",
    "NE_L=len(NE.loc[NE['단속구분']=='주행형CCTV'])\n",
    "JY_L=len(JY.loc[JY['단속구분']=='주행형CCTV'])\n",
    "JG_L=len(JG.loc[JG['단속구분']=='주행형CCTV'])\n",
    "HY_L=len(HY.loc[HY['단속구분']=='주행형CCTV'])\n",
    "\n",
    "print('광장동 주행형CCTV 횟수 : ',GJ_L)\n",
    "print('구의동 주행형CCTV 횟수 : ',GE_L)\n",
    "print('군자동 주행형CCTV 횟수 : ',GJA_L)\n",
    "print('능동 주행형CCTV 횟수 : ',NE_L)\n",
    "print('자양동 주행형CCTV 횟수 : ',JY_L)\n",
    "print('중곡동 주행형CCTV 횟수 : ',JG_L)\n",
    "print('화양동 주행형CCTV 횟수 : ',HY_L)"
   ]
  },
  {
   "cell_type": "code",
   "execution_count": 10,
   "id": "3a74f7d4",
   "metadata": {},
   "outputs": [
    {
     "name": "stdout",
     "output_type": "stream",
     "text": [
      "광장동 PDA 횟수 :  16440\n",
      "구의동 PDA 횟수 :  38406\n",
      "군자동 PDA 횟수 :  14553\n",
      "능동 PDA 횟수 :  7225\n",
      "자양동 PDA 횟수 :  38756\n",
      "중곡동 PDA 횟수 :  24694\n",
      "화양동 PDA 횟수 :  19869\n"
     ]
    }
   ],
   "source": [
    "GJ_P=len(GJ.loc[GJ['단속구분']=='PDA'])\n",
    "GE_P=len(GE.loc[GE['단속구분']=='PDA'])\n",
    "GJA_P=len(GJA.loc[GJA['단속구분']=='PDA'])\n",
    "NE_P=len(NE.loc[NE['단속구분']=='PDA'])\n",
    "JY_P=len(JY.loc[JY['단속구분']=='PDA'])\n",
    "JG_P=len(JG.loc[JG['단속구분']=='PDA'])\n",
    "HY_P=len(HY.loc[HY['단속구분']=='PDA'])\n",
    "\n",
    "print('광장동 PDA 횟수 : ',GJ_L)\n",
    "print('구의동 PDA 횟수 : ',GE_P)\n",
    "print('군자동 PDA 횟수 : ',GJA_P)\n",
    "print('능동 PDA 횟수 : ',NE_P)\n",
    "print('자양동 PDA 횟수 : ',JY_P)\n",
    "print('중곡동 PDA 횟수 : ',JG_P)\n",
    "print('화양동 PDA 횟수 : ',HY_P)"
   ]
  },
  {
   "cell_type": "code",
   "execution_count": 11,
   "id": "e02f203e",
   "metadata": {},
   "outputs": [],
   "source": [
    "cctv_num = pd.DataFrame({'동': ['광장동', '구의동', '군자동', '능동', '자양동', '중곡동', '화양동'],\n",
    "                         'CCTV수' : [16440,8320,8330,67,13323,1986,6941]\n",
    "                       })\n",
    "pda_num = pd.DataFrame({'동' : ['광장동', '구의동', '군자동', '능동', '자양동', '중곡동', '화양동'],\n",
    "                       'pda수' : [16440,38406,14553,7225,38756,24694,19869]\n",
    "                       })"
   ]
  },
  {
   "cell_type": "code",
   "execution_count": 12,
   "id": "b04227f2",
   "metadata": {},
   "outputs": [
    {
     "data": {
      "text/html": [
       "<div>\n",
       "<style scoped>\n",
       "    .dataframe tbody tr th:only-of-type {\n",
       "        vertical-align: middle;\n",
       "    }\n",
       "\n",
       "    .dataframe tbody tr th {\n",
       "        vertical-align: top;\n",
       "    }\n",
       "\n",
       "    .dataframe thead th {\n",
       "        text-align: right;\n",
       "    }\n",
       "</style>\n",
       "<table border=\"1\" class=\"dataframe\">\n",
       "  <thead>\n",
       "    <tr style=\"text-align: right;\">\n",
       "      <th></th>\n",
       "      <th>단속지역</th>\n",
       "      <th>단속구분</th>\n",
       "    </tr>\n",
       "  </thead>\n",
       "  <tbody>\n",
       "    <tr>\n",
       "      <th>231</th>\n",
       "      <td>광장동</td>\n",
       "      <td>주행형CCTV</td>\n",
       "    </tr>\n",
       "    <tr>\n",
       "      <th>232</th>\n",
       "      <td>광장동</td>\n",
       "      <td>주행형CCTV</td>\n",
       "    </tr>\n",
       "    <tr>\n",
       "      <th>240</th>\n",
       "      <td>광장동</td>\n",
       "      <td>주행형CCTV</td>\n",
       "    </tr>\n",
       "    <tr>\n",
       "      <th>241</th>\n",
       "      <td>광장동</td>\n",
       "      <td>주행형CCTV</td>\n",
       "    </tr>\n",
       "    <tr>\n",
       "      <th>242</th>\n",
       "      <td>광장동</td>\n",
       "      <td>주행형CCTV</td>\n",
       "    </tr>\n",
       "    <tr>\n",
       "      <th>...</th>\n",
       "      <td>...</td>\n",
       "      <td>...</td>\n",
       "    </tr>\n",
       "    <tr>\n",
       "      <th>500957</th>\n",
       "      <td>화양동</td>\n",
       "      <td>주행형CCTV</td>\n",
       "    </tr>\n",
       "    <tr>\n",
       "      <th>502013</th>\n",
       "      <td>화양동</td>\n",
       "      <td>주행형CCTV</td>\n",
       "    </tr>\n",
       "    <tr>\n",
       "      <th>502014</th>\n",
       "      <td>화양동</td>\n",
       "      <td>주행형CCTV</td>\n",
       "    </tr>\n",
       "    <tr>\n",
       "      <th>502852</th>\n",
       "      <td>화양동</td>\n",
       "      <td>주행형CCTV</td>\n",
       "    </tr>\n",
       "    <tr>\n",
       "      <th>502853</th>\n",
       "      <td>화양동</td>\n",
       "      <td>주행형CCTV</td>\n",
       "    </tr>\n",
       "  </tbody>\n",
       "</table>\n",
       "<p>55407 rows × 2 columns</p>\n",
       "</div>"
      ],
      "text/plain": [
       "       단속지역     단속구분\n",
       "231     광장동  주행형CCTV\n",
       "232     광장동  주행형CCTV\n",
       "240     광장동  주행형CCTV\n",
       "241     광장동  주행형CCTV\n",
       "242     광장동  주행형CCTV\n",
       "...     ...      ...\n",
       "500957  화양동  주행형CCTV\n",
       "502013  화양동  주행형CCTV\n",
       "502014  화양동  주행형CCTV\n",
       "502852  화양동  주행형CCTV\n",
       "502853  화양동  주행형CCTV\n",
       "\n",
       "[55407 rows x 2 columns]"
      ]
     },
     "execution_count": 12,
     "metadata": {},
     "output_type": "execute_result"
    }
   ],
   "source": [
    "A = GJ.loc[GJ['단속구분']=='주행형CCTV']\n",
    "B = GE.loc[GE['단속구분']=='주행형CCTV']\n",
    "C = GJA.loc[GJA['단속구분']=='주행형CCTV']\n",
    "D = NE.loc[NE['단속구분']=='주행형CCTV']\n",
    "E = JY.loc[JY['단속구분']=='주행형CCTV']\n",
    "F = JG.loc[JG['단속구분']=='주행형CCTV']\n",
    "G = HY.loc[HY['단속구분']=='주행형CCTV']\n",
    "CCTV_dansok = pd.concat([A,B,C,D,E,F,G])\n",
    "CCTV_dansok"
   ]
  },
  {
   "cell_type": "markdown",
   "id": "cd3c925a",
   "metadata": {},
   "source": [
    "### 주차장 별 데이터 확인 "
   ]
  },
  {
   "cell_type": "markdown",
   "id": "10d0b9dc",
   "metadata": {},
   "source": [
    "#### BUSUL"
   ]
  },
  {
   "cell_type": "code",
   "execution_count": 13,
   "id": "25b17a43",
   "metadata": {},
   "outputs": [
    {
     "data": {
      "text/html": [
       "<div>\n",
       "<style scoped>\n",
       "    .dataframe tbody tr th:only-of-type {\n",
       "        vertical-align: middle;\n",
       "    }\n",
       "\n",
       "    .dataframe tbody tr th {\n",
       "        vertical-align: top;\n",
       "    }\n",
       "\n",
       "    .dataframe thead th {\n",
       "        text-align: right;\n",
       "    }\n",
       "</style>\n",
       "<table border=\"1\" class=\"dataframe\">\n",
       "  <thead>\n",
       "    <tr style=\"text-align: right;\">\n",
       "      <th></th>\n",
       "      <th>주차장이름</th>\n",
       "      <th>위도</th>\n",
       "      <th>경도</th>\n",
       "      <th>타입</th>\n",
       "    </tr>\n",
       "  </thead>\n",
       "  <tbody>\n",
       "    <tr>\n",
       "      <th>0</th>\n",
       "      <td>능동로32길 073-00 주차장</td>\n",
       "      <td>37.554053</td>\n",
       "      <td>127.082462</td>\n",
       "      <td>A</td>\n",
       "    </tr>\n",
       "    <tr>\n",
       "      <th>1</th>\n",
       "      <td>M캐슬 가을 주차장</td>\n",
       "      <td>37.553433</td>\n",
       "      <td>127.081944</td>\n",
       "      <td>A</td>\n",
       "    </tr>\n",
       "    <tr>\n",
       "      <th>2</th>\n",
       "      <td>능동로32길 106-05 주차장</td>\n",
       "      <td>37.553057</td>\n",
       "      <td>127.083952</td>\n",
       "      <td>A</td>\n",
       "    </tr>\n",
       "  </tbody>\n",
       "</table>\n",
       "</div>"
      ],
      "text/plain": [
       "               주차장이름         위도          경도 타입\n",
       "0  능동로32길 073-00 주차장  37.554053  127.082462  A\n",
       "1         M캐슬 가을 주차장  37.553433  127.081944  A\n",
       "2  능동로32길 106-05 주차장  37.553057  127.083952  A"
      ]
     },
     "execution_count": 13,
     "metadata": {},
     "output_type": "execute_result"
    }
   ],
   "source": [
    "BUSUL.rename(columns={'주차장이름(pl_nm)':'주차장이름'},inplace=True)\n",
    "BUSUL.rename(columns={'경도(logitude)': '경도'}, inplace =True)\n",
    "BUSUL.rename(columns={'위도(latitude)': '위도'}, inplace = True)\n",
    "\n",
    "BUSUL = BUSUL[['주차장이름', '위도', '경도']]\n",
    "BUSUL['타입'] ='A'\n",
    "BUSUL.head(3)"
   ]
  },
  {
   "cell_type": "markdown",
   "id": "50e4f053",
   "metadata": {},
   "source": [
    "#### NOOE"
   ]
  },
  {
   "cell_type": "code",
   "execution_count": 14,
   "id": "e0e144ce",
   "metadata": {},
   "outputs": [
    {
     "data": {
      "text/html": [
       "<div>\n",
       "<style scoped>\n",
       "    .dataframe tbody tr th:only-of-type {\n",
       "        vertical-align: middle;\n",
       "    }\n",
       "\n",
       "    .dataframe tbody tr th {\n",
       "        vertical-align: top;\n",
       "    }\n",
       "\n",
       "    .dataframe thead th {\n",
       "        text-align: right;\n",
       "    }\n",
       "</style>\n",
       "<table border=\"1\" class=\"dataframe\">\n",
       "  <thead>\n",
       "    <tr style=\"text-align: right;\">\n",
       "      <th></th>\n",
       "      <th>주차장이름</th>\n",
       "      <th>위도</th>\n",
       "      <th>경도</th>\n",
       "      <th>타입</th>\n",
       "    </tr>\n",
       "  </thead>\n",
       "  <tbody>\n",
       "    <tr>\n",
       "      <th>0</th>\n",
       "      <td>중곡2동주차장</td>\n",
       "      <td>37.556402</td>\n",
       "      <td>127.084000</td>\n",
       "      <td>B</td>\n",
       "    </tr>\n",
       "    <tr>\n",
       "      <th>1</th>\n",
       "      <td>새오름</td>\n",
       "      <td>37.561311</td>\n",
       "      <td>127.090848</td>\n",
       "      <td>B</td>\n",
       "    </tr>\n",
       "    <tr>\n",
       "      <th>2</th>\n",
       "      <td>중곡4동주차장</td>\n",
       "      <td>37.557057</td>\n",
       "      <td>127.091839</td>\n",
       "      <td>B</td>\n",
       "    </tr>\n",
       "  </tbody>\n",
       "</table>\n",
       "</div>"
      ],
      "text/plain": [
       "     주차장이름         위도          경도 타입\n",
       "0  중곡2동주차장  37.556402  127.084000  B\n",
       "1      새오름  37.561311  127.090848  B\n",
       "2  중곡4동주차장  37.557057  127.091839  B"
      ]
     },
     "execution_count": 14,
     "metadata": {},
     "output_type": "execute_result"
    }
   ],
   "source": [
    "NOOE.rename(columns={'주차장이름(pl_nm)':'주차장이름'},inplace=True)\n",
    "NOOE.rename(columns={'경도(longitude)': '경도'}, inplace =True)\n",
    "NOOE.rename(columns={'위도(latitude)': '위도'}, inplace = True)\n",
    "\n",
    "NOOE = NOOE[['주차장이름', '위도', '경도']]\n",
    "NOOE['타입'] ='B'\n",
    "NOOE.head(3)"
   ]
  },
  {
   "cell_type": "markdown",
   "id": "1e123d71",
   "metadata": {},
   "source": [
    "#### NOSANG"
   ]
  },
  {
   "cell_type": "code",
   "execution_count": 15,
   "id": "eea99e17",
   "metadata": {},
   "outputs": [
    {
     "data": {
      "text/html": [
       "<div>\n",
       "<style scoped>\n",
       "    .dataframe tbody tr th:only-of-type {\n",
       "        vertical-align: middle;\n",
       "    }\n",
       "\n",
       "    .dataframe tbody tr th {\n",
       "        vertical-align: top;\n",
       "    }\n",
       "\n",
       "    .dataframe thead th {\n",
       "        text-align: right;\n",
       "    }\n",
       "</style>\n",
       "<table border=\"1\" class=\"dataframe\">\n",
       "  <thead>\n",
       "    <tr style=\"text-align: right;\">\n",
       "      <th></th>\n",
       "      <th>주차장이름</th>\n",
       "      <th>위도</th>\n",
       "      <th>경도</th>\n",
       "      <th>타입</th>\n",
       "    </tr>\n",
       "  </thead>\n",
       "  <tbody>\n",
       "    <tr>\n",
       "      <th>0</th>\n",
       "      <td>249-6 노상주차장</td>\n",
       "      <td>37.555295</td>\n",
       "      <td>127.077648</td>\n",
       "      <td>C</td>\n",
       "    </tr>\n",
       "    <tr>\n",
       "      <th>1</th>\n",
       "      <td>16-81 노상주차장</td>\n",
       "      <td>37.544867</td>\n",
       "      <td>127.069443</td>\n",
       "      <td>C</td>\n",
       "    </tr>\n",
       "    <tr>\n",
       "      <th>2</th>\n",
       "      <td>16-93 노상주차장</td>\n",
       "      <td>37.544947</td>\n",
       "      <td>127.069553</td>\n",
       "      <td>C</td>\n",
       "    </tr>\n",
       "  </tbody>\n",
       "</table>\n",
       "</div>"
      ],
      "text/plain": [
       "         주차장이름         위도          경도 타입\n",
       "0  249-6 노상주차장  37.555295  127.077648  C\n",
       "1  16-81 노상주차장  37.544867  127.069443  C\n",
       "2  16-93 노상주차장  37.544947  127.069553  C"
      ]
     },
     "execution_count": 15,
     "metadata": {},
     "output_type": "execute_result"
    }
   ],
   "source": [
    "NOSANG.rename(columns={'지번주차장이름(pl_nm)':'주차장이름'},inplace=True)\n",
    "NOSANG.rename(columns={'경도(longitude)': '경도'}, inplace =True)\n",
    "NOSANG.rename(columns={'위도(latitude)': '위도'}, inplace = True)\n",
    "\n",
    "NOSANG = NOSANG[['주차장이름', '위도', '경도']]\n",
    "NOSANG['타입'] ='C'\n",
    "NOSANG.head(3)"
   ]
  },
  {
   "cell_type": "markdown",
   "id": "9517585d",
   "metadata": {},
   "source": [
    "#### 주차장 통합"
   ]
  },
  {
   "cell_type": "code",
   "execution_count": 16,
   "id": "111add54",
   "metadata": {},
   "outputs": [],
   "source": [
    "PAKING = pd.concat([BUSUL, NOOE, NOSANG])\n",
    "PAKING.dropna(inplace=True)"
   ]
  },
  {
   "cell_type": "code",
   "execution_count": 17,
   "id": "f3f55140",
   "metadata": {},
   "outputs": [
    {
     "data": {
      "text/plain": [
       "주차장이름    0\n",
       "위도       0\n",
       "경도       0\n",
       "타입       0\n",
       "dtype: int64"
      ]
     },
     "execution_count": 17,
     "metadata": {},
     "output_type": "execute_result"
    }
   ],
   "source": [
    "PAKING.isnull().sum()"
   ]
  },
  {
   "cell_type": "code",
   "execution_count": 18,
   "id": "b370f2a8",
   "metadata": {},
   "outputs": [],
   "source": [
    "PAKING_NUM = pd.DataFrame({'동': ['광장동', '구의동', '군자동', '능동', '자양동', '중곡동', '화양동'],\n",
    "                         '주차장수' : [528, 3720, 1130, 990, 4538, 6229, 1298]\n",
    "                       })"
   ]
  },
  {
   "cell_type": "code",
   "execution_count": 19,
   "id": "0b7836fb",
   "metadata": {},
   "outputs": [
    {
     "data": {
      "image/png": "[encoded data removed]",
      "text/plain": [
       "<Figure size 640x480 with 1 Axes>"
      ]
     },
     "metadata": {},
     "output_type": "display_data"
    }
   ],
   "source": [
    "import matplotlib.pyplot as plt\n",
    "# 한글 깨짐으로 인한 한글 지원가능한 폰트로 바꾸는 코드\n",
    "import matplotlib\n",
    "from matplotlib import font_manager, rc\n",
    "import platform\n",
    "\n",
    "if platform.system() == 'Windows':\n",
    "    font_name = font_manager.FontProperties(fname=\"c:/Windows/Fonts/malgun.ttf\").get_name()\n",
    "    rc('font', family=font_name)\n",
    "#-----------------------------------------------------------------------------------------------\n",
    "\n",
    "\n",
    "\n",
    "list_x = ['광장동', '구의동', '군자동', '능동', '자양동', '중곡동', '화양동']\n",
    "all_y = [len(GJ),len(GE),len(GJA), len(NE), len(JY), len(JG), len(HY)]\n",
    "list_y=[GJ_L+GJ_P, GE_L+GE_P, GJA_L+GJA_P, NE_L+NE_P, JY_L+JY_P, JG_L+JG_P, HY_L+HY_P]\n",
    "\n",
    "\n",
    "plt.plot(list_x, list_y, color='black', marker='o',label=\"주행형CCTV, PDA\")\n",
    "plt.bar(list_x, all_y)\n",
    "\n",
    "plt.xlabel('동이름')\n",
    "plt.ylabel('광진구 불법주정차 단속 횟수')\n",
    "plt.legend()\n",
    "\n",
    "\n",
    "plt.show()"
   ]
  },
  {
   "cell_type": "markdown",
   "id": "e5e54b12",
   "metadata": {},
   "source": [
    "# 고정형CCTV 설치위치 시각화"
   ]
  },
  {
   "cell_type": "code",
   "execution_count": 20,
   "id": "05fc784e",
   "metadata": {},
   "outputs": [
    {
     "data": {
      "text/plain": [
       "Index(['고정형CCTV지번주소', '위도', '경도', '자치구', '단속지점명', '현장구분'], dtype='object')"
      ]
     },
     "execution_count": 20,
     "metadata": {},
     "output_type": "execute_result"
    }
   ],
   "source": [
    "CCTV.columns"
   ]
  },
  {
   "cell_type": "markdown",
   "id": "a311c313",
   "metadata": {},
   "source": [
    "### 필요없는 항목 제거"
   ]
  },
  {
   "cell_type": "code",
   "execution_count": 21,
   "id": "4d9448f7",
   "metadata": {},
   "outputs": [],
   "source": [
    "#CCTV.drop(['자치구', '현장구분', '단속지점명'], axis=1, inplace=True)\n",
    "CCTV.drop(['현장구분', '단속지점명'], axis=1, inplace=True)"
   ]
  },
  {
   "cell_type": "code",
   "execution_count": 22,
   "id": "65ccf31a",
   "metadata": {},
   "outputs": [
    {
     "data": {
      "text/plain": [
       "고정형CCTV지번주소    0\n",
       "위도             0\n",
       "경도             0\n",
       "자치구            0\n",
       "dtype: int64"
      ]
     },
     "execution_count": 22,
     "metadata": {},
     "output_type": "execute_result"
    }
   ],
   "source": [
    "CCTV.dropna(axis='index', how='any', inplace=True)\n",
    "CCTV.isnull().sum()"
   ]
  },
  {
   "cell_type": "markdown",
   "id": "425335a1",
   "metadata": {
    "scrolled": true
   },
   "source": [
    "CCTV"
   ]
  },
  {
   "cell_type": "markdown",
   "id": "0797877e",
   "metadata": {},
   "source": [
    "### 광진구 지도 시각화"
   ]
  },
  {
   "cell_type": "code",
   "execution_count": 1,
   "id": "7711fd30",
   "metadata": {},
   "outputs": [],
   "source": [
    "import folium as f\n",
    "from folium.plugins import MarkerCluster"
   ]
  },
  {
   "cell_type": "markdown",
   "id": "530781c4",
   "metadata": {},
   "source": [
    "m = f.Map(location=[37.53573, 127.0845333],\n",
    "                tiles='OpenStreetMap',\n",
    "                zoom_start=13.4)\n",
    "mc=MarkerCluster()\n",
    "for _, row in CCTV.iterrows():\n",
    "    mc.add_child(\n",
    "        f.Marker(location=[row['위도'],row['경도']],\n",
    "          popup=row['고정형CCTV지번주소']\n",
    "              )\n",
    "    )\n",
    "    \n",
    "m.add_child(mc)\n",
    "m.add_child(f.LatLngPopup())\n",
    "\n",
    "m"
   ]
  },
  {
   "cell_type": "markdown",
   "id": "708dba99",
   "metadata": {},
   "source": [
    "## 광진구 동별 CCTV 단속 횟수"
   ]
  },
  {
   "cell_type": "markdown",
   "id": "dbaf6c1a",
   "metadata": {},
   "source": [
    "import json\n",
    "Gjson2 = \"C:/Users/user/Desktop/Gwangjingu/gwang3.json\"\n",
    "Gjson_geo = json.load(open(Gjson2, encoding ='utf-8'))\n",
    "\n",
    "m = f.Map(location=[37.53573, 127.084533],\n",
    "         tiles = 'openstreetmap',\n",
    "        zoom_start = 14\n",
    "         )\n",
    "\n",
    "fmap = f.Choropleth(geo_data = Gjson_geo,\n",
    "                   data = cctv_num,\n",
    "                    columns =['동', 'CCTV수'],\n",
    "                    key_on = 'feature.properties.temp', fill_color='PuRd',\n",
    "                    fill_opacity = 0.7, line_pacity=0.3,\n",
    "                    legend_name = '동 별 CCTV 단속 횟수',\n",
    "                    highlight =True\n",
    "                   ).add_to(m)\n",
    "fmap.geojson.zoom_on_click = False\n",
    "fmap.geojson.add_child(f.features.GeoJsonTooltip(['temp'],labels=False))\n",
    "\n",
    "m\n"
   ]
  },
  {
   "cell_type": "markdown",
   "id": "7d776ca7",
   "metadata": {},
   "source": [
    "### 광진구 동별 PDA 수"
   ]
  },
  {
   "cell_type": "markdown",
   "id": "18889adb",
   "metadata": {},
   "source": [
    "import json\n",
    "Gjson2 = \"C:/Users/user/Desktop/Gwangjingu/gwang3.json\"\n",
    "Gjson_geo = json.load(open(Gjson2, encoding ='utf-8'))\n",
    "\n",
    "m = f.Map(location=[37.53573, 127.084533],\n",
    "         tiles = 'openstreetmap',\n",
    "        zoom_start = 14\n",
    "         )\n",
    "\n",
    "fmap = f.Choropleth(geo_data = Gjson_geo,\n",
    "                   data = pda_num,\n",
    "                    columns =['동', 'pda수'],\n",
    "                    key_on = 'feature.properties.temp', fill_color='PuRd',\n",
    "                    fill_opacity = 0.7, line_pacity=0.3,\n",
    "                    legend_name = '동 별 CCTV 수',\n",
    "                    highlight =True\n",
    "                   ).add_to(m)\n",
    "fmap.geojson.zoom_on_click = False\n",
    "fmap.geojson.add_child(f.features.GeoJsonTooltip(['temp'],labels=False))\n",
    "\n",
    "m\n"
   ]
  },
  {
   "cell_type": "markdown",
   "id": "f3e8f584",
   "metadata": {},
   "source": [
    "### 동별 자동차 등록대수"
   ]
  },
  {
   "cell_type": "markdown",
   "id": "a4c3806b",
   "metadata": {},
   "source": [
    "Gjson2 = \"C:/Users/user/Desktop/Gwangjingu/gwang2.json\"\n",
    "Gjson_geo = json.load(open(Gjson2, encoding ='utf-8'))\n",
    "\n",
    "m = f.Map(location=[37.53573, 127.084533],\n",
    "         tiles = 'openstreetmap',\n",
    "        zoom_start = 14\n",
    "         )\n",
    "\n",
    "fmap = f.Choropleth(geo_data = Gjson_geo,\n",
    "                   data = CAR,\n",
    "                    columns =['읍면동명', '자동차등록대수'],\n",
    "                    key_on = 'feature.properties.temp', fill_color='PuRd',\n",
    "                    fill_opacity = 0.7, line_pacity=0.3,\n",
    "                    legend_name = '동 별 자동차등록대수',\n",
    "                    highlight =True\n",
    "                   ).add_to(m)\n",
    "fmap.geojson.zoom_on_click = False\n",
    "fmap.geojson.add_child(f.features.GeoJsonTooltip(['temp'],labels=False))\n",
    "\n",
    "m\n"
   ]
  },
  {
   "cell_type": "markdown",
   "id": "6a614dee",
   "metadata": {},
   "source": [
    "### 주차장 별 위치"
   ]
  },
  {
   "cell_type": "markdown",
   "id": "5d035fde",
   "metadata": {},
   "source": [
    "m = f.Map(location=[37.53573, 127.0845333],\n",
    "                tiles='OpenStreetMap',\n",
    "                zoom_start=13.4)\n",
    "mc=MarkerCluster()\n",
    "for _, row in PAKING.iterrows():\n",
    "    if row['타입'] == 'A':\n",
    "        color = 'red'\n",
    "    elif row['타입'] == 'B':\n",
    "        color = 'blue'\n",
    "    elif row['타입'] == 'C':\n",
    "        color = 'green'\n",
    "        \n",
    "    mc.add_child(\n",
    "        f.Marker(location=[row['위도'],row['경도']],\n",
    "          popup=row['주차장이름'], icon=f.Icon(color = color)\n",
    "              )\n",
    "    )\n",
    "    \n",
    "    \n",
    "m.add_child(mc)\n",
    "m.add_child(f.LatLngPopup())\n",
    "\n",
    "m"
   ]
  },
  {
   "cell_type": "markdown",
   "id": "142a0b0e",
   "metadata": {},
   "source": [
    "### 동 별 주차장 수 비교"
   ]
  },
  {
   "cell_type": "markdown",
   "id": "5df6b398",
   "metadata": {},
   "source": [
    "Gjson2 = \"C:/Users/user/Desktop/Gwangjingu/gwang3.json\"\n",
    "Gjson_geo = json.load(open(Gjson2, encoding ='utf-8'))\n",
    "\n",
    "m = f.Map(location=[37.53573, 127.084533],\n",
    "         tiles = 'openstreetmap',\n",
    "        zoom_start = 14\n",
    "         )\n",
    "\n",
    "fmap = f.Choropleth(geo_data = Gjson_geo,\n",
    "                   data = PAKING_NUM,\n",
    "                    columns =['동', '주차장수'],\n",
    "                    key_on = 'feature.properties.temp', fill_color='PuRd',\n",
    "                    fill_opacity = 0.7, line_pacity=0.3,\n",
    "                    legend_name = '동 별 주차장 수 ',\n",
    "                    highlight =True\n",
    "                   ).add_to(m)\n",
    "fmap.geojson.zoom_on_click = False\n",
    "fmap.geojson.add_child(f.features.GeoJsonTooltip(['temp'],labels=False))\n",
    "\n",
    "m\n"
   ]
  },
  {
   "cell_type": "code",
   "execution_count": null,
   "id": "f694fc4a",
   "metadata": {},
   "outputs": [],
   "source": []
  }
 ],
 "metadata": {
  "kernelspec": {
   "display_name": "Python 3 (ipykernel)",
   "language": "python",
   "name": "python3"
  },
  "language_info": {
   "codemirror_mode": {
    "name": "ipython",
    "version": 3
   },
   "file_extension": ".py",
   "mimetype": "text/x-python",
   "name": "python",
   "nbconvert_exporter": "python",
   "pygments_lexer": "ipython3",
   "version": "3.9.13"
  }
 },
 "nbformat": 4,
 "nbformat_minor": 5
}
